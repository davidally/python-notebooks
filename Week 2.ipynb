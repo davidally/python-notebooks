{
 "cells": [
  {
   "cell_type": "markdown",
   "metadata": {},
   "source": [
    "# Week 2"
   ]
  },
  {
   "cell_type": "markdown",
   "metadata": {},
   "source": [
    "<p>Something that I find tricky about data structures is traversing tree structures. Here is an example of a singly-linked list with a node class and list class defined.</p>"
   ]
  },
  {
   "cell_type": "markdown",
   "metadata": {},
   "source": [
    "## Challenges with learning data structures"
   ]
  },
  {
   "cell_type": "code",
   "execution_count": null,
   "metadata": {},
   "outputs": [],
   "source": [
    "class SLLNode(object):\n",
    "    def __init__(self, data, next_node=None):\n",
    "        self.data = data\n",
    "        self.next_node = next_node\n",
    "\n",
    "class SinglyLinkedList(object):\n",
    "    def __init__(self, head=None):\n",
    "        self.head = head\n",
    "            \n",
    "#Traverse the list based on the data held in the head. \n",
    "    def __repr__(self):\n",
    "        s = ''\n",
    "        if self.head is not None:\n",
    "            current_node = self.head\n",
    "        else:\n",
    "            current_node = None\n",
    "        \n",
    "        while current_node is not None:\n",
    "            s += ' --> %s' % current_node.data\n",
    "            current_node = current_node.next_node\n",
    "        return 'Size: %s\\nData: ' % self.size() + s[5:]"
   ]
  },
  {
   "cell_type": "markdown",
   "metadata": {},
   "source": [
    "## Traversing tree structures"
   ]
  },
  {
   "cell_type": "markdown",
   "metadata": {},
   "source": [
    "<p>A singly linked list is a one way data structure that can only be traversed in one direction so this is not too bad when it comes to tree structures. However to create doubly linked, circular lists, and other tree structures we must add more nodes and values to the list class. Yet this is fundamental to many data structures used within Computer Science so it is important for everyone who wants to work with software to learn.</p>"
   ]
  }
 ],
 "metadata": {
  "kernelspec": {
   "display_name": "Python 3",
   "language": "python",
   "name": "python3"
  },
  "language_info": {
   "codemirror_mode": {
    "name": "ipython",
    "version": 3
   },
   "file_extension": ".py",
   "mimetype": "text/x-python",
   "name": "python",
   "nbconvert_exporter": "python",
   "pygments_lexer": "ipython3",
   "version": "3.7.6"
  }
 },
 "nbformat": 4,
 "nbformat_minor": 4
}
