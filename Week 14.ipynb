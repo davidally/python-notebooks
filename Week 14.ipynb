{
 "cells": [
  {
   "cell_type": "markdown",
   "metadata": {},
   "source": [
    "# Week 14 - Instagram Explore"
   ]
  },
  {
   "cell_type": "markdown",
   "metadata": {},
   "source": [
    "<p>For this analysis we'll be taking a look at the recommender system behind Instagram. Instagram is an online social media application with over 1 billion monthly users. Instagram is owned and operated by the company Facebook who are also the creators of the Facebook social media site. </p>"
   ]
  },
  {
   "cell_type": "markdown",
   "metadata": {},
   "source": [
    "# System Design Analysis"
   ]
  },
  {
   "cell_type": "markdown",
   "metadata": {},
   "source": [
    "## Target Users"
   ]
  },
  {
   "cell_type": "markdown",
   "metadata": {},
   "source": [
    "<p>The target users of the system are primarily younger people between the ages of 18 and 49 with the majority of Instagram users being urban women. These people are mostly seeking engagement with their peers and others although many also seek to discover other things such as art, clothing, style, and shopping.</p>"
   ]
  },
  {
   "cell_type": "markdown",
   "metadata": {},
   "source": [
    "## Key Goals"
   ]
  },
  {
   "cell_type": "markdown",
   "metadata": {},
   "source": [
    "<p>The goals for this system is to recommend content that people will be attracted to (whatever the subject may be). Based on their browsing and liking habits, the system can recommend content that it believes users will appreciate thereby increasing engagement and user retention on the Instagram platform.</p>"
   ]
  },
  {
   "cell_type": "markdown",
   "metadata": {},
   "source": [
    "## How to Accomplish Key Goals"
   ]
  },
  {
   "cell_type": "markdown",
   "metadata": {},
   "source": [
    "<p>In order to accomplish this it will be necessary to determine the interests of a user. Data must be collected on profiles users visit as well as the length of their browsing, the types of posts they interact with, and the content they \"like\". Reports on users can then be compiled from this information in order to come up with recommendations and predictions. This can be further aggregated with other user data into a more general profile that can then apply to other people with similar interests.</p>"
   ]
  },
  {
   "cell_type": "markdown",
   "metadata": {},
   "source": [
    "# Reverse Engineering"
   ]
  },
  {
   "cell_type": "markdown",
   "metadata": {},
   "source": [
    "## How does Instagram Explore work?"
   ]
  },
  {
   "cell_type": "markdown",
   "metadata": {},
   "source": [
    "<p>Instagram split their Explore system into two stages called 'the candidate generation' stage and the 'ranking' stage. They first gather 'seed' accounts that people have interacted with. In this case content that users have liked or saved media from. Usually these accounts share similar or the same interests. Then they use what are called 'embedding techniques' to identify other accounts similar to the seed accounts. Based on this aggregation Instagram is able to find media that the accounts have posted or are engaged with. With so many sources Instagram is able to agreggate thousands of candidates for a person. The system is filtered with machine learning in order to detect and filter content that violates policy or spam. Finally Instagram then takes a sample of 500 from their aggregate and sends the candidates to the ranking stage.</p>"
   ]
  },
  {
   "cell_type": "markdown",
   "metadata": {},
   "source": [
    "<p>The candidates are then filtered 3 times by different neural network models in order to find the highest quality content breaking down from 500 to 150, 150, to 50, and then 50 to 25. With this Instagram recommends things corresponding to a users interests but also recommends new things as well.</p>"
   ]
  },
  {
   "cell_type": "markdown",
   "metadata": {},
   "source": [
    "## Improvements"
   ]
  },
  {
   "cell_type": "markdown",
   "metadata": {},
   "source": [
    "<p>The system Instagram has created works very well for the platform and needs little in the way of improvement. The main issue social media companies like Instagram face is that content that violates policy is constantly being uploaded. I would recommend if possible some sort of client-side filtering of content. Users need more input as well by being asked directly (although not intrusively) as this will make their models more accurate without much more effort on their part.</p>"
   ]
  }
 ],
 "metadata": {
  "kernelspec": {
   "display_name": "Python 3",
   "language": "python",
   "name": "python3"
  },
  "language_info": {
   "codemirror_mode": {
    "name": "ipython",
    "version": 3
   },
   "file_extension": ".py",
   "mimetype": "text/x-python",
   "name": "python",
   "nbconvert_exporter": "python",
   "pygments_lexer": "ipython3",
   "version": "3.7.6"
  }
 },
 "nbformat": 4,
 "nbformat_minor": 4
}
