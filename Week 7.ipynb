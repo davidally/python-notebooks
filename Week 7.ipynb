{
 "cells": [
  {
   "cell_type": "markdown",
   "metadata": {},
   "source": [
    "# Week 7 - Aggregating Data"
   ]
  },
  {
   "cell_type": "code",
   "execution_count": 2,
   "metadata": {},
   "outputs": [],
   "source": [
    "import pandas as pd\n",
    "import numpy as np\n",
    "import sys"
   ]
  },
  {
   "cell_type": "code",
   "execution_count": 5,
   "metadata": {},
   "outputs": [
    {
     "data": {
      "text/html": [
       "<div>\n",
       "<style scoped>\n",
       "    .dataframe tbody tr th:only-of-type {\n",
       "        vertical-align: middle;\n",
       "    }\n",
       "\n",
       "    .dataframe tbody tr th {\n",
       "        vertical-align: top;\n",
       "    }\n",
       "\n",
       "    .dataframe thead th {\n",
       "        text-align: right;\n",
       "    }\n",
       "</style>\n",
       "<table border=\"1\" class=\"dataframe\">\n",
       "  <thead>\n",
       "    <tr style=\"text-align: right;\">\n",
       "      <th></th>\n",
       "      <th>Unnamed: 0</th>\n",
       "      <th>Bad Boys For Life</th>\n",
       "      <th>Avengers Endgame</th>\n",
       "      <th>Joker</th>\n",
       "      <th>Star Wars: Rise of Skywalker</th>\n",
       "      <th>Frozen 2</th>\n",
       "      <th>Once Upon A Time In Hollywood</th>\n",
       "    </tr>\n",
       "  </thead>\n",
       "  <tbody>\n",
       "    <tr>\n",
       "      <th>0</th>\n",
       "      <td>Person_1</td>\n",
       "      <td>4</td>\n",
       "      <td>5</td>\n",
       "      <td>4</td>\n",
       "      <td>4</td>\n",
       "      <td>3</td>\n",
       "      <td>5</td>\n",
       "    </tr>\n",
       "    <tr>\n",
       "      <th>1</th>\n",
       "      <td>Person_2</td>\n",
       "      <td>4</td>\n",
       "      <td>4</td>\n",
       "      <td>5</td>\n",
       "      <td>2</td>\n",
       "      <td>3</td>\n",
       "      <td>3</td>\n",
       "    </tr>\n",
       "    <tr>\n",
       "      <th>2</th>\n",
       "      <td>Person_3</td>\n",
       "      <td>3</td>\n",
       "      <td>5</td>\n",
       "      <td>5</td>\n",
       "      <td>5</td>\n",
       "      <td>4</td>\n",
       "      <td>4</td>\n",
       "    </tr>\n",
       "    <tr>\n",
       "      <th>3</th>\n",
       "      <td>Person_4</td>\n",
       "      <td>4</td>\n",
       "      <td>5</td>\n",
       "      <td>4</td>\n",
       "      <td>3</td>\n",
       "      <td>4</td>\n",
       "      <td>5</td>\n",
       "    </tr>\n",
       "    <tr>\n",
       "      <th>4</th>\n",
       "      <td>Person_5</td>\n",
       "      <td>3</td>\n",
       "      <td>3</td>\n",
       "      <td>4</td>\n",
       "      <td>2</td>\n",
       "      <td>4</td>\n",
       "      <td>5</td>\n",
       "    </tr>\n",
       "  </tbody>\n",
       "</table>\n",
       "</div>"
      ],
      "text/plain": [
       "  Unnamed: 0  Bad Boys For Life  Avengers Endgame  Joker  \\\n",
       "0   Person_1                  4                 5      4   \n",
       "1   Person_2                  4                 4      5   \n",
       "2   Person_3                  3                 5      5   \n",
       "3   Person_4                  4                 5      4   \n",
       "4   Person_5                  3                 3      4   \n",
       "\n",
       "   Star Wars: Rise of Skywalker  Frozen 2  Once Upon A Time In Hollywood  \n",
       "0                             4         3                              5  \n",
       "1                             2         3                              3  \n",
       "2                             5         4                              4  \n",
       "3                             3         4                              5  \n",
       "4                             2         4                              5  "
      ]
     },
     "execution_count": 5,
     "metadata": {},
     "output_type": "execute_result"
    }
   ],
   "source": [
    "url=\"https://raw.githubusercontent.com/davidally/python-notebooks/master/Week7data.csv\"\n",
    "df = pd.read_csv(url)\n",
    "df"
   ]
  },
  {
   "cell_type": "code",
   "execution_count": 13,
   "metadata": {},
   "outputs": [
    {
     "name": "stdout",
     "output_type": "stream",
     "text": [
      "Average Movie Ratings\n"
     ]
    },
    {
     "data": {
      "text/plain": [
       "Bad Boys For Life                3.6\n",
       "Avengers Endgame                 4.4\n",
       "Joker                            4.4\n",
       "Star Wars: Rise of Skywalker     3.2\n",
       "Frozen 2                         3.6\n",
       "Once Upon A Time In Hollywood    4.4\n",
       "dtype: float64"
      ]
     },
     "execution_count": 13,
     "metadata": {},
     "output_type": "execute_result"
    }
   ],
   "source": [
    "print('Average Ratings')\n",
    "df[['Bad Boys For Life', 'Avengers Endgame', 'Joker', 'Star Wars: Rise of Skywalker', 'Frozen 2', 'Once Upon A Time In Hollywood']].mean()"
   ]
  },
  {
   "cell_type": "markdown",
   "metadata": {},
   "source": [
    "## Normalize Data"
   ]
  },
  {
   "cell_type": "code",
   "execution_count": 22,
   "metadata": {},
   "outputs": [],
   "source": [
    "from sklearn.preprocessing import MinMaxScaler\n",
    "DATA = df[['Bad Boys For Life','Avengers Endgame','Joker','Star Wars: Rise of Skywalker','Frozen 2','Once Upon A Time In Hollywood']]\n",
    "scalar = MinMaxScaler()\n",
    "scalar.fit(DATA)\n",
    "Normalized_Data = scalar.transform(DATA)"
   ]
  },
  {
   "cell_type": "code",
   "execution_count": 28,
   "metadata": {},
   "outputs": [
    {
     "data": {
      "text/html": [
       "<div>\n",
       "<style scoped>\n",
       "    .dataframe tbody tr th:only-of-type {\n",
       "        vertical-align: middle;\n",
       "    }\n",
       "\n",
       "    .dataframe tbody tr th {\n",
       "        vertical-align: top;\n",
       "    }\n",
       "\n",
       "    .dataframe thead th {\n",
       "        text-align: right;\n",
       "    }\n",
       "</style>\n",
       "<table border=\"1\" class=\"dataframe\">\n",
       "  <thead>\n",
       "    <tr style=\"text-align: right;\">\n",
       "      <th></th>\n",
       "      <th>Bad Boys For Life</th>\n",
       "      <th>Avengers Endgame</th>\n",
       "      <th>Joker</th>\n",
       "      <th>Star Wars: Rise of Skywalker</th>\n",
       "      <th>Frozen 2</th>\n",
       "      <th>Once Upon A Time In Hollywood</th>\n",
       "    </tr>\n",
       "  </thead>\n",
       "  <tbody>\n",
       "    <tr>\n",
       "      <th>0</th>\n",
       "      <td>1.0</td>\n",
       "      <td>1.0</td>\n",
       "      <td>0.0</td>\n",
       "      <td>0.666667</td>\n",
       "      <td>0.0</td>\n",
       "      <td>1.0</td>\n",
       "    </tr>\n",
       "    <tr>\n",
       "      <th>1</th>\n",
       "      <td>1.0</td>\n",
       "      <td>0.5</td>\n",
       "      <td>1.0</td>\n",
       "      <td>0.000000</td>\n",
       "      <td>0.0</td>\n",
       "      <td>0.0</td>\n",
       "    </tr>\n",
       "    <tr>\n",
       "      <th>2</th>\n",
       "      <td>0.0</td>\n",
       "      <td>1.0</td>\n",
       "      <td>1.0</td>\n",
       "      <td>1.000000</td>\n",
       "      <td>1.0</td>\n",
       "      <td>0.5</td>\n",
       "    </tr>\n",
       "    <tr>\n",
       "      <th>3</th>\n",
       "      <td>1.0</td>\n",
       "      <td>1.0</td>\n",
       "      <td>0.0</td>\n",
       "      <td>0.333333</td>\n",
       "      <td>1.0</td>\n",
       "      <td>1.0</td>\n",
       "    </tr>\n",
       "    <tr>\n",
       "      <th>4</th>\n",
       "      <td>0.0</td>\n",
       "      <td>0.0</td>\n",
       "      <td>0.0</td>\n",
       "      <td>0.000000</td>\n",
       "      <td>1.0</td>\n",
       "      <td>1.0</td>\n",
       "    </tr>\n",
       "  </tbody>\n",
       "</table>\n",
       "</div>"
      ],
      "text/plain": [
       "   Bad Boys For Life  Avengers Endgame  Joker  Star Wars: Rise of Skywalker  \\\n",
       "0                1.0               1.0    0.0                      0.666667   \n",
       "1                1.0               0.5    1.0                      0.000000   \n",
       "2                0.0               1.0    1.0                      1.000000   \n",
       "3                1.0               1.0    0.0                      0.333333   \n",
       "4                0.0               0.0    0.0                      0.000000   \n",
       "\n",
       "   Frozen 2  Once Upon A Time In Hollywood  \n",
       "0       0.0                            1.0  \n",
       "1       0.0                            0.0  \n",
       "2       1.0                            0.5  \n",
       "3       1.0                            1.0  \n",
       "4       1.0                            1.0  "
      ]
     },
     "execution_count": 28,
     "metadata": {},
     "output_type": "execute_result"
    }
   ],
   "source": [
    "#Check data is normalized\n",
    "New_DF = pd.DataFrame(Normalized_Data, columns=['Bad Boys For Life','Avengers Endgame','Joker','Star Wars: Rise of Skywalker','Frozen 2','Once Upon A Time In Hollywood'])\n",
    "New_DF"
   ]
  },
  {
   "cell_type": "markdown",
   "metadata": {},
   "source": [
    "### Average Rating (Normalized)"
   ]
  },
  {
   "cell_type": "code",
   "execution_count": 29,
   "metadata": {},
   "outputs": [
    {
     "data": {
      "text/plain": [
       "Bad Boys For Life                0.6\n",
       "Avengers Endgame                 0.7\n",
       "Joker                            0.4\n",
       "Star Wars: Rise of Skywalker     0.4\n",
       "Frozen 2                         0.6\n",
       "Once Upon A Time In Hollywood    0.7\n",
       "dtype: float64"
      ]
     },
     "execution_count": 29,
     "metadata": {},
     "output_type": "execute_result"
    }
   ],
   "source": [
    "New_DF[['Bad Boys For Life', 'Avengers Endgame', 'Joker', 'Star Wars: Rise of Skywalker', 'Frozen 2', 'Once Upon A Time In Hollywood']].mean()"
   ]
  }
 ],
 "metadata": {
  "kernelspec": {
   "display_name": "Python 3",
   "language": "python",
   "name": "python3"
  },
  "language_info": {
   "codemirror_mode": {
    "name": "ipython",
    "version": 3
   },
   "file_extension": ".py",
   "mimetype": "text/x-python",
   "name": "python",
   "nbconvert_exporter": "python",
   "pygments_lexer": "ipython3",
   "version": "3.7.6"
  }
 },
 "nbformat": 4,
 "nbformat_minor": 4
}
